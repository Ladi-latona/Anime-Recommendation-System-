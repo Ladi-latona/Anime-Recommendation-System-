{
 "cells": [
  {
   "cell_type": "markdown",
   "id": "24085181",
   "metadata": {},
   "source": [
    "This data set contains information on user preference data from 73,516 users on 12,294 anime. Each user is able to add anime to their completed list and give it a rating and this data set is a compilation of those ratings."
   ]
  },
  {
   "cell_type": "markdown",
   "id": "cf23ad08",
   "metadata": {},
   "source": [
    "Content\n",
    "\n",
    "Anime.csv\n",
    "\n",
    "anime_id - myanimelist.net's unique id identifying an anime.\n",
    "\n",
    "name - full name of anime.\n",
    "\n",
    "genre - comma separated list of genres for this anime.\n",
    "\n",
    "type - movie, TV, OVA, etc.\n",
    "\n",
    "episodes - how many episodes in this show. (1 if movie).\n",
    "\n",
    "rating - average rating out of 10 for this anime.\n",
    "\n",
    "members - number of community members that are in this anime's\n",
    "\"group\".\n",
    "\n",
    "Rating.csv\n",
    "\n",
    "user_id - non identifiable randomly generated user id.\n",
    "\n",
    "anime_id - the anime that this user has rated.\n",
    "\n",
    "rating - rating out of 10 this user has assigned (-1 if the user watched it but didn't assign a rating).\n"
   ]
  },
  {
   "cell_type": "markdown",
   "id": "81386c2a",
   "metadata": {},
   "source": [
    "## Preprocessing"
   ]
  },
  {
   "cell_type": "code",
   "execution_count": 1,
   "id": "12dbf417",
   "metadata": {},
   "outputs": [],
   "source": [
    "import pandas as pd \n",
    "from math import sqrt\n",
    "import numpy as np\n",
    "import matplotlib.pyplot as plt\n",
    "%matplotlib inline\n",
    "from sklearn.preprocessing import MultiLabelBinarizer"
   ]
  },
  {
   "cell_type": "code",
   "execution_count": 2,
   "id": "e212dd51",
   "metadata": {},
   "outputs": [],
   "source": [
    "anime_df = pd.read_csv('/Users/Ladi/Desktop/anime.csv')\n",
    "ratings_df = pd.read_csv('/Users/Ladi/Desktop/rating.csv')"
   ]
  },
  {
   "cell_type": "code",
   "execution_count": 3,
   "id": "cb015e71",
   "metadata": {},
   "outputs": [
    {
     "data": {
      "text/html": [
       "<div>\n",
       "<style scoped>\n",
       "    .dataframe tbody tr th:only-of-type {\n",
       "        vertical-align: middle;\n",
       "    }\n",
       "\n",
       "    .dataframe tbody tr th {\n",
       "        vertical-align: top;\n",
       "    }\n",
       "\n",
       "    .dataframe thead th {\n",
       "        text-align: right;\n",
       "    }\n",
       "</style>\n",
       "<table border=\"1\" class=\"dataframe\">\n",
       "  <thead>\n",
       "    <tr style=\"text-align: right;\">\n",
       "      <th></th>\n",
       "      <th>anime_id</th>\n",
       "      <th>name</th>\n",
       "      <th>genre</th>\n",
       "      <th>type</th>\n",
       "      <th>episodes</th>\n",
       "      <th>rating</th>\n",
       "      <th>members</th>\n",
       "    </tr>\n",
       "  </thead>\n",
       "  <tbody>\n",
       "    <tr>\n",
       "      <th>0</th>\n",
       "      <td>32281</td>\n",
       "      <td>Kimi no Na wa.</td>\n",
       "      <td>Drama, Romance, School, Supernatural</td>\n",
       "      <td>Movie</td>\n",
       "      <td>1</td>\n",
       "      <td>9.37</td>\n",
       "      <td>200630</td>\n",
       "    </tr>\n",
       "    <tr>\n",
       "      <th>1</th>\n",
       "      <td>5114</td>\n",
       "      <td>Fullmetal Alchemist: Brotherhood</td>\n",
       "      <td>Action, Adventure, Drama, Fantasy, Magic, Mili...</td>\n",
       "      <td>TV</td>\n",
       "      <td>64</td>\n",
       "      <td>9.26</td>\n",
       "      <td>793665</td>\n",
       "    </tr>\n",
       "    <tr>\n",
       "      <th>2</th>\n",
       "      <td>28977</td>\n",
       "      <td>Gintama°</td>\n",
       "      <td>Action, Comedy, Historical, Parody, Samurai, S...</td>\n",
       "      <td>TV</td>\n",
       "      <td>51</td>\n",
       "      <td>9.25</td>\n",
       "      <td>114262</td>\n",
       "    </tr>\n",
       "    <tr>\n",
       "      <th>3</th>\n",
       "      <td>9253</td>\n",
       "      <td>Steins;Gate</td>\n",
       "      <td>Sci-Fi, Thriller</td>\n",
       "      <td>TV</td>\n",
       "      <td>24</td>\n",
       "      <td>9.17</td>\n",
       "      <td>673572</td>\n",
       "    </tr>\n",
       "    <tr>\n",
       "      <th>4</th>\n",
       "      <td>9969</td>\n",
       "      <td>Gintama&amp;#039;</td>\n",
       "      <td>Action, Comedy, Historical, Parody, Samurai, S...</td>\n",
       "      <td>TV</td>\n",
       "      <td>51</td>\n",
       "      <td>9.16</td>\n",
       "      <td>151266</td>\n",
       "    </tr>\n",
       "  </tbody>\n",
       "</table>\n",
       "</div>"
      ],
      "text/plain": [
       "   anime_id                              name  \\\n",
       "0     32281                    Kimi no Na wa.   \n",
       "1      5114  Fullmetal Alchemist: Brotherhood   \n",
       "2     28977                          Gintama°   \n",
       "3      9253                       Steins;Gate   \n",
       "4      9969                     Gintama&#039;   \n",
       "\n",
       "                                               genre   type episodes  rating  \\\n",
       "0               Drama, Romance, School, Supernatural  Movie        1    9.37   \n",
       "1  Action, Adventure, Drama, Fantasy, Magic, Mili...     TV       64    9.26   \n",
       "2  Action, Comedy, Historical, Parody, Samurai, S...     TV       51    9.25   \n",
       "3                                   Sci-Fi, Thriller     TV       24    9.17   \n",
       "4  Action, Comedy, Historical, Parody, Samurai, S...     TV       51    9.16   \n",
       "\n",
       "   members  \n",
       "0   200630  \n",
       "1   793665  \n",
       "2   114262  \n",
       "3   673572  \n",
       "4   151266  "
      ]
     },
     "execution_count": 3,
     "metadata": {},
     "output_type": "execute_result"
    }
   ],
   "source": [
    "anime_df.head()"
   ]
  },
  {
   "cell_type": "markdown",
   "id": "7ee3eaa2",
   "metadata": {},
   "source": [
    "### Dropping the columns that won't be needed for this particular recommendation system."
   ]
  },
  {
   "cell_type": "code",
   "execution_count": 4,
   "id": "0eebbe95",
   "metadata": {},
   "outputs": [
    {
     "name": "stderr",
     "output_type": "stream",
     "text": [
      "/var/folders/cf/yh2vvpdn0klby68k9zrttfv00000gp/T/ipykernel_14333/657108466.py:1: FutureWarning: In a future version of pandas all arguments of DataFrame.drop except for the argument 'labels' will be keyword-only\n",
      "  anime_df= anime_df.drop('rating',1).drop('genre',1).drop('type',1).drop('episodes',1).drop('members',1)\n"
     ]
    },
    {
     "data": {
      "text/html": [
       "<div>\n",
       "<style scoped>\n",
       "    .dataframe tbody tr th:only-of-type {\n",
       "        vertical-align: middle;\n",
       "    }\n",
       "\n",
       "    .dataframe tbody tr th {\n",
       "        vertical-align: top;\n",
       "    }\n",
       "\n",
       "    .dataframe thead th {\n",
       "        text-align: right;\n",
       "    }\n",
       "</style>\n",
       "<table border=\"1\" class=\"dataframe\">\n",
       "  <thead>\n",
       "    <tr style=\"text-align: right;\">\n",
       "      <th></th>\n",
       "      <th>anime_id</th>\n",
       "      <th>name</th>\n",
       "    </tr>\n",
       "  </thead>\n",
       "  <tbody>\n",
       "    <tr>\n",
       "      <th>0</th>\n",
       "      <td>32281</td>\n",
       "      <td>Kimi no Na wa.</td>\n",
       "    </tr>\n",
       "    <tr>\n",
       "      <th>1</th>\n",
       "      <td>5114</td>\n",
       "      <td>Fullmetal Alchemist: Brotherhood</td>\n",
       "    </tr>\n",
       "    <tr>\n",
       "      <th>2</th>\n",
       "      <td>28977</td>\n",
       "      <td>Gintama°</td>\n",
       "    </tr>\n",
       "    <tr>\n",
       "      <th>3</th>\n",
       "      <td>9253</td>\n",
       "      <td>Steins;Gate</td>\n",
       "    </tr>\n",
       "    <tr>\n",
       "      <th>4</th>\n",
       "      <td>9969</td>\n",
       "      <td>Gintama&amp;#039;</td>\n",
       "    </tr>\n",
       "  </tbody>\n",
       "</table>\n",
       "</div>"
      ],
      "text/plain": [
       "   anime_id                              name\n",
       "0     32281                    Kimi no Na wa.\n",
       "1      5114  Fullmetal Alchemist: Brotherhood\n",
       "2     28977                          Gintama°\n",
       "3      9253                       Steins;Gate\n",
       "4      9969                     Gintama&#039;"
      ]
     },
     "execution_count": 4,
     "metadata": {},
     "output_type": "execute_result"
    }
   ],
   "source": [
    "anime_df= anime_df.drop('rating',1).drop('genre',1).drop('type',1).drop('episodes',1).drop('members',1)\n",
    "anime_df.head()"
   ]
  },
  {
   "cell_type": "markdown",
   "id": "b850e51f",
   "metadata": {},
   "source": [
    "### Looking at the ratings dataframe"
   ]
  },
  {
   "cell_type": "code",
   "execution_count": 5,
   "id": "6adaee81",
   "metadata": {},
   "outputs": [
    {
     "data": {
      "text/html": [
       "<div>\n",
       "<style scoped>\n",
       "    .dataframe tbody tr th:only-of-type {\n",
       "        vertical-align: middle;\n",
       "    }\n",
       "\n",
       "    .dataframe tbody tr th {\n",
       "        vertical-align: top;\n",
       "    }\n",
       "\n",
       "    .dataframe thead th {\n",
       "        text-align: right;\n",
       "    }\n",
       "</style>\n",
       "<table border=\"1\" class=\"dataframe\">\n",
       "  <thead>\n",
       "    <tr style=\"text-align: right;\">\n",
       "      <th></th>\n",
       "      <th>user_id</th>\n",
       "      <th>anime_id</th>\n",
       "      <th>rating</th>\n",
       "    </tr>\n",
       "  </thead>\n",
       "  <tbody>\n",
       "    <tr>\n",
       "      <th>0</th>\n",
       "      <td>1</td>\n",
       "      <td>20</td>\n",
       "      <td>-1</td>\n",
       "    </tr>\n",
       "    <tr>\n",
       "      <th>1</th>\n",
       "      <td>1</td>\n",
       "      <td>24</td>\n",
       "      <td>-1</td>\n",
       "    </tr>\n",
       "    <tr>\n",
       "      <th>2</th>\n",
       "      <td>1</td>\n",
       "      <td>79</td>\n",
       "      <td>-1</td>\n",
       "    </tr>\n",
       "    <tr>\n",
       "      <th>3</th>\n",
       "      <td>1</td>\n",
       "      <td>226</td>\n",
       "      <td>-1</td>\n",
       "    </tr>\n",
       "    <tr>\n",
       "      <th>4</th>\n",
       "      <td>1</td>\n",
       "      <td>241</td>\n",
       "      <td>-1</td>\n",
       "    </tr>\n",
       "  </tbody>\n",
       "</table>\n",
       "</div>"
      ],
      "text/plain": [
       "   user_id  anime_id  rating\n",
       "0        1        20      -1\n",
       "1        1        24      -1\n",
       "2        1        79      -1\n",
       "3        1       226      -1\n",
       "4        1       241      -1"
      ]
     },
     "execution_count": 5,
     "metadata": {},
     "output_type": "execute_result"
    }
   ],
   "source": [
    "ratings_df.head()"
   ]
  },
  {
   "cell_type": "markdown",
   "id": "74190618",
   "metadata": {},
   "source": [
    "## Collaborative Filtering"
   ]
  },
  {
   "cell_type": "markdown",
   "id": "f2c41021",
   "metadata": {},
   "source": [
    "The technique we're going to use is called Collaborative Filtering. This technique uses other users to recommend items to the input user. It attempts to find users that have similar preferences and opinions as the input and then recommends items that they have liked to the input. There are several methods of finding similar users (Even some making use of Machine Learning), and the one we will be using here is going to be based on the Pearson Correlation Function."
   ]
  },
  {
   "cell_type": "markdown",
   "id": "3ba310ec",
   "metadata": {},
   "source": [
    "### Creating an Input User "
   ]
  },
  {
   "cell_type": "code",
   "execution_count": 6,
   "id": "e761c1c4",
   "metadata": {},
   "outputs": [
    {
     "data": {
      "text/html": [
       "<div>\n",
       "<style scoped>\n",
       "    .dataframe tbody tr th:only-of-type {\n",
       "        vertical-align: middle;\n",
       "    }\n",
       "\n",
       "    .dataframe tbody tr th {\n",
       "        vertical-align: top;\n",
       "    }\n",
       "\n",
       "    .dataframe thead th {\n",
       "        text-align: right;\n",
       "    }\n",
       "</style>\n",
       "<table border=\"1\" class=\"dataframe\">\n",
       "  <thead>\n",
       "    <tr style=\"text-align: right;\">\n",
       "      <th></th>\n",
       "      <th>name</th>\n",
       "      <th>rating</th>\n",
       "    </tr>\n",
       "  </thead>\n",
       "  <tbody>\n",
       "    <tr>\n",
       "      <th>0</th>\n",
       "      <td>Hunter x Hunter (2011)</td>\n",
       "      <td>9</td>\n",
       "    </tr>\n",
       "    <tr>\n",
       "      <th>1</th>\n",
       "      <td>One Punch Man</td>\n",
       "      <td>7</td>\n",
       "    </tr>\n",
       "    <tr>\n",
       "      <th>2</th>\n",
       "      <td>Naruto</td>\n",
       "      <td>8</td>\n",
       "    </tr>\n",
       "    <tr>\n",
       "      <th>3</th>\n",
       "      <td>Gintama</td>\n",
       "      <td>8</td>\n",
       "    </tr>\n",
       "    <tr>\n",
       "      <th>4</th>\n",
       "      <td>Mushishi</td>\n",
       "      <td>9</td>\n",
       "    </tr>\n",
       "  </tbody>\n",
       "</table>\n",
       "</div>"
      ],
      "text/plain": [
       "                     name  rating\n",
       "0  Hunter x Hunter (2011)       9\n",
       "1           One Punch Man       7\n",
       "2                  Naruto       8\n",
       "3                 Gintama       8\n",
       "4                Mushishi       9"
      ]
     },
     "execution_count": 6,
     "metadata": {},
     "output_type": "execute_result"
    }
   ],
   "source": [
    "userInput = [\n",
    "            {'name':'Hunter x Hunter (2011)', 'rating':9},\n",
    "            {'name':'One Punch Man', 'rating':7},\n",
    "            {'name':'Naruto', 'rating':8},\n",
    "            {'name':\"Gintama\", 'rating':8},\n",
    "            {'name':'Mushishi', 'rating':9}\n",
    "         ] \n",
    "inputAnime = pd.DataFrame(userInput)\n",
    "inputAnime"
   ]
  },
  {
   "cell_type": "markdown",
   "id": "1b56bedf",
   "metadata": {},
   "source": [
    "### Adding anime_id to input user"
   ]
  },
  {
   "cell_type": "code",
   "execution_count": 7,
   "id": "a2fb3319",
   "metadata": {},
   "outputs": [
    {
     "data": {
      "text/html": [
       "<div>\n",
       "<style scoped>\n",
       "    .dataframe tbody tr th:only-of-type {\n",
       "        vertical-align: middle;\n",
       "    }\n",
       "\n",
       "    .dataframe tbody tr th {\n",
       "        vertical-align: top;\n",
       "    }\n",
       "\n",
       "    .dataframe thead th {\n",
       "        text-align: right;\n",
       "    }\n",
       "</style>\n",
       "<table border=\"1\" class=\"dataframe\">\n",
       "  <thead>\n",
       "    <tr style=\"text-align: right;\">\n",
       "      <th></th>\n",
       "      <th>anime_id</th>\n",
       "      <th>name</th>\n",
       "      <th>rating</th>\n",
       "    </tr>\n",
       "  </thead>\n",
       "  <tbody>\n",
       "    <tr>\n",
       "      <th>0</th>\n",
       "      <td>11061</td>\n",
       "      <td>Hunter x Hunter (2011)</td>\n",
       "      <td>9</td>\n",
       "    </tr>\n",
       "    <tr>\n",
       "      <th>1</th>\n",
       "      <td>918</td>\n",
       "      <td>Gintama</td>\n",
       "      <td>8</td>\n",
       "    </tr>\n",
       "    <tr>\n",
       "      <th>2</th>\n",
       "      <td>30276</td>\n",
       "      <td>One Punch Man</td>\n",
       "      <td>7</td>\n",
       "    </tr>\n",
       "    <tr>\n",
       "      <th>3</th>\n",
       "      <td>457</td>\n",
       "      <td>Mushishi</td>\n",
       "      <td>9</td>\n",
       "    </tr>\n",
       "    <tr>\n",
       "      <th>4</th>\n",
       "      <td>20</td>\n",
       "      <td>Naruto</td>\n",
       "      <td>8</td>\n",
       "    </tr>\n",
       "  </tbody>\n",
       "</table>\n",
       "</div>"
      ],
      "text/plain": [
       "   anime_id                    name  rating\n",
       "0     11061  Hunter x Hunter (2011)       9\n",
       "1       918                 Gintama       8\n",
       "2     30276           One Punch Man       7\n",
       "3       457                Mushishi       9\n",
       "4        20                  Naruto       8"
      ]
     },
     "execution_count": 7,
     "metadata": {},
     "output_type": "execute_result"
    }
   ],
   "source": [
    "#Filtering out the movies by name\n",
    "inputId = anime_df[anime_df['name'].isin(inputAnime['name'].tolist())]\n",
    "inputAnime = pd.merge(inputId,inputAnime, on=['name'],how='left')\n",
    "inputAnime"
   ]
  },
  {
   "cell_type": "markdown",
   "id": "09649e65",
   "metadata": {},
   "source": [
    "### Creating a subset of users that have watched and reviewed the same animes as the input user"
   ]
  },
  {
   "cell_type": "code",
   "execution_count": 8,
   "id": "9b27ee3d",
   "metadata": {},
   "outputs": [
    {
     "data": {
      "text/html": [
       "<div>\n",
       "<style scoped>\n",
       "    .dataframe tbody tr th:only-of-type {\n",
       "        vertical-align: middle;\n",
       "    }\n",
       "\n",
       "    .dataframe tbody tr th {\n",
       "        vertical-align: top;\n",
       "    }\n",
       "\n",
       "    .dataframe thead th {\n",
       "        text-align: right;\n",
       "    }\n",
       "</style>\n",
       "<table border=\"1\" class=\"dataframe\">\n",
       "  <thead>\n",
       "    <tr style=\"text-align: right;\">\n",
       "      <th></th>\n",
       "      <th>user_id</th>\n",
       "      <th>anime_id</th>\n",
       "      <th>rating</th>\n",
       "    </tr>\n",
       "  </thead>\n",
       "  <tbody>\n",
       "    <tr>\n",
       "      <th>0</th>\n",
       "      <td>1</td>\n",
       "      <td>20</td>\n",
       "      <td>-1</td>\n",
       "    </tr>\n",
       "    <tr>\n",
       "      <th>156</th>\n",
       "      <td>3</td>\n",
       "      <td>20</td>\n",
       "      <td>8</td>\n",
       "    </tr>\n",
       "    <tr>\n",
       "      <th>246</th>\n",
       "      <td>3</td>\n",
       "      <td>30276</td>\n",
       "      <td>-1</td>\n",
       "    </tr>\n",
       "    <tr>\n",
       "      <th>306</th>\n",
       "      <td>5</td>\n",
       "      <td>20</td>\n",
       "      <td>6</td>\n",
       "    </tr>\n",
       "    <tr>\n",
       "      <th>382</th>\n",
       "      <td>5</td>\n",
       "      <td>918</td>\n",
       "      <td>9</td>\n",
       "    </tr>\n",
       "  </tbody>\n",
       "</table>\n",
       "</div>"
      ],
      "text/plain": [
       "     user_id  anime_id  rating\n",
       "0          1        20      -1\n",
       "156        3        20       8\n",
       "246        3     30276      -1\n",
       "306        5        20       6\n",
       "382        5       918       9"
      ]
     },
     "execution_count": 8,
     "metadata": {},
     "output_type": "execute_result"
    }
   ],
   "source": [
    "userSubset = ratings_df[ratings_df['anime_id'].isin(inputAnime['anime_id'].tolist())]\n",
    "userSubset.head()"
   ]
  },
  {
   "cell_type": "markdown",
   "id": "4d12cdc7",
   "metadata": {},
   "source": [
    "### Grouping by userid"
   ]
  },
  {
   "cell_type": "code",
   "execution_count": 9,
   "id": "1561f871",
   "metadata": {},
   "outputs": [],
   "source": [
    "userSubsetGroup = userSubset.groupby(['user_id'])"
   ]
  },
  {
   "cell_type": "markdown",
   "id": "72bf26ba",
   "metadata": {},
   "source": [
    "Sorting the groups so that users that share the most animes in common with the input have higher priority. This provides a richer recommendation since we won't go through every single user."
   ]
  },
  {
   "cell_type": "code",
   "execution_count": 11,
   "id": "3188b59d",
   "metadata": {},
   "outputs": [],
   "source": [
    "userSubsetGroup = sorted(userSubsetGroup,  key=lambda x: len(x[1]), reverse=True)"
   ]
  },
  {
   "cell_type": "markdown",
   "id": "d58c2c8e",
   "metadata": {},
   "source": [
    "### let's look at the first 3"
   ]
  },
  {
   "cell_type": "code",
   "execution_count": 12,
   "id": "feb0dbe3",
   "metadata": {},
   "outputs": [
    {
     "data": {
      "text/plain": [
       "[(39,\n",
       "        user_id  anime_id  rating\n",
       "  3636       39        20      10\n",
       "  3649       39       457      -1\n",
       "  3652       39       918      -1\n",
       "  3693       39     11061      -1\n",
       "  3808       39     30276      -1),\n",
       " (567,\n",
       "         user_id  anime_id  rating\n",
       "  54624      567        20       9\n",
       "  54655      567       457       9\n",
       "  54680      567       918      10\n",
       "  54821      567     11061      10\n",
       "  54931      567     30276      10),\n",
       " (784,\n",
       "         user_id  anime_id  rating\n",
       "  75630      784        20       7\n",
       "  75655      784       457       8\n",
       "  75663      784       918       8\n",
       "  75758      784     11061       9\n",
       "  75980      784     30276       9)]"
      ]
     },
     "execution_count": 12,
     "metadata": {},
     "output_type": "execute_result"
    }
   ],
   "source": [
    "userSubsetGroup[0:3]"
   ]
  },
  {
   "cell_type": "markdown",
   "id": "22b9193b",
   "metadata": {},
   "source": [
    "Next, we are going to compare 100 users to our specified user and find the one that is most similar.\n",
    "We're going to find out how similar each user is to the input through the Pearson Correlation Coefficient. It is used to measure the strength of a linear association between the two variables."
   ]
  },
  {
   "cell_type": "code",
   "execution_count": 13,
   "id": "e6485452",
   "metadata": {},
   "outputs": [],
   "source": [
    "userSubsetGroup = userSubsetGroup[0:100]"
   ]
  },
  {
   "cell_type": "markdown",
   "id": "a0d6fc4e",
   "metadata": {},
   "source": [
    "Calculating the Pearson Correlation between input user and subset group, and storing it in a dictionary, where the key is the user Id and the value is the coefficient."
   ]
  },
  {
   "cell_type": "code",
   "execution_count": 14,
   "id": "9d2ff57a",
   "metadata": {},
   "outputs": [],
   "source": [
    "#Store the Pearson Correlation in a dictionary, where the key is the user Id and the value is the coefficient\n",
    "pearsonCorrelationDict = {}\n",
    "\n",
    "#For every user group in our subset\n",
    "for name, group in userSubsetGroup:\n",
    "    #Let's start by sorting the input and current user group so the values aren't mixed up later on\n",
    "    group = group.sort_values(by='anime_id')\n",
    "    inputAnime = inputAnime.sort_values(by='anime_id')\n",
    "    #Get the N for the formula\n",
    "    nRatings = len(group)\n",
    "    #Get the review scores for the movies that they both have in common\n",
    "    temp_df = inputAnime[inputAnime['anime_id'].isin(group['anime_id'].tolist())]\n",
    "    #And then store them in a temporary buffer variable in a list format to facilitate future calculations\n",
    "    tempRatingList = temp_df['rating'].tolist()\n",
    "    #Let's also put the current user group reviews in a list format\n",
    "    tempGroupList = group['rating'].tolist()\n",
    "    #Now let's calculate the pearson correlation between two users, so called, x and y\n",
    "    Sxx = sum([i**2 for i in tempRatingList]) - pow(sum(tempRatingList),2)/float(nRatings)\n",
    "    Syy = sum([i**2 for i in tempGroupList]) - pow(sum(tempGroupList),2)/float(nRatings)\n",
    "    Sxy = sum( i*j for i, j in zip(tempRatingList, tempGroupList)) - sum(tempRatingList)*sum(tempGroupList)/float(nRatings)\n",
    "    \n",
    "    #If the denominator is different than zero, then divide, else, 0 correlation.\n",
    "    if Sxx != 0 and Syy != 0:\n",
    "        pearsonCorrelationDict[name] = Sxy/sqrt(Sxx*Syy)\n",
    "    else:\n",
    "        pearsonCorrelationDict[name] = 0\n",
    "\n"
   ]
  },
  {
   "cell_type": "code",
   "execution_count": 15,
   "id": "91cc7ae5",
   "metadata": {},
   "outputs": [
    {
     "data": {
      "text/plain": [
       "dict_items([(39, -0.1336306209562121), (567, -0.32732683535400187), (784, -0.07142857142856708), (1114, 0.2112885636821287), (1176, 0.3668996928526651), (1237, 0.13363062095621192), (1344, 0.04310416013535741), (1435, 0.2439750182371328), (1501, 0.5976143046671957), (1530, 0.07142857142856726), (1576, 0.5345224838248562), (1889, 0), (2143, 0.8012455796764165), (2264, 0), (2555, 0.7637626158259629), (3278, 0.15724272550829355), (3518, -0.21946557273221337), (3592, -0.13363062095621375), (3660, 0.32732683535398766), (4161, 0.21274790016365555), (4251, 0.4285714285714228), (4437, 0.8685990362153867), (4468, -0.7559289460184528), (4512, -0.045834924851407825), (4658, 0.6428571428571443), (4759, 0.6910233190806429), (5073, -0.3273268353539844), (5423, 0.013464426851070375), (5526, 0), (5598, 0), (5701, 0.763762615825972), (6118, 0), (6166, 0.46770717334673495), (6184, 0), (6265, -0.21821789023598057), (6416, 0.25475508554262843), (6638, 0), (7345, 0.2452557357939894), (7519, 0.5976143046671957), (7533, -0.1336306209562121), (7755, -0.8017837257372716), (7816, -0.13363062095620457), (8128, 0.21821789023599478), (8138, 0), (8149, 0.08666446569231032), (8231, -0.4225771273642574), (8660, 0), (10044, -0.13363062095620457), (10108, 0.2439750182371328), (10115, -0.13363062095620457), (10382, 0.1756046821849761), (11318, 0.037546963074133265), (11339, 0.13363062095621375), (11867, 0.9063269671749689), (11966, 0.3273268353539844), (13008, 0.045834924851407825), (13045, 0.21821789023599478), (13063, 0.4125143236626965), (13548, 0), (13586, 0.027565892320996942), (14906, -0.045834924851407825), (15022, -0.13363062095621192), (15124, -0.045834924851407825), (15236, 0.3273268353539844), (15396, -0.4285714285714228), (15718, 0), (16158, 0.4285714285714239), (16205, -0.13363062095620457), (16372, -0.4125143236626969), (16601, 0.7857142857142785), (16707, -0.13363062095620457), (17033, -0.27500954910846), (17294, -0.13363062095620457), (17815, -0.46770717334673495), (17836, 0.03636964837266324), (18417, 0.0), (18452, 0.32732683535398766), (18469, 0.2112885636821287), (18684, 0.13363062095620337), (18695, -0.28571428571428936), (18985, 0.5345224838248562), (19001, -0.28571428571428864), (19141, 0.0), (19418, -0.4225771273642574), (19443, 0), (19530, 0.13363062095621375), (19898, 0), (20128, 0.09600307214746502), (20490, 0.4225771273642574), (20637, 0.41931393468877287), (20765, 0.28571428571428864), (21068, 0.8696565534786709), (21244, 0.2439750182371328), (21588, 0.41931393468877287), (21748, -0.21821789023599478), (21881, 0), (22244, 0.3273268353539844), (22378, -0.13363062095620457), (22389, 0.32732683535400187), (22715, 0)])"
      ]
     },
     "execution_count": 15,
     "metadata": {},
     "output_type": "execute_result"
    }
   ],
   "source": [
    "pearsonCorrelationDict.items()"
   ]
  },
  {
   "cell_type": "code",
   "execution_count": 16,
   "id": "2c41b34c",
   "metadata": {},
   "outputs": [
    {
     "data": {
      "text/html": [
       "<div>\n",
       "<style scoped>\n",
       "    .dataframe tbody tr th:only-of-type {\n",
       "        vertical-align: middle;\n",
       "    }\n",
       "\n",
       "    .dataframe tbody tr th {\n",
       "        vertical-align: top;\n",
       "    }\n",
       "\n",
       "    .dataframe thead th {\n",
       "        text-align: right;\n",
       "    }\n",
       "</style>\n",
       "<table border=\"1\" class=\"dataframe\">\n",
       "  <thead>\n",
       "    <tr style=\"text-align: right;\">\n",
       "      <th></th>\n",
       "      <th>similarityIndex</th>\n",
       "      <th>user_id</th>\n",
       "    </tr>\n",
       "  </thead>\n",
       "  <tbody>\n",
       "    <tr>\n",
       "      <th>0</th>\n",
       "      <td>-0.133631</td>\n",
       "      <td>39</td>\n",
       "    </tr>\n",
       "    <tr>\n",
       "      <th>1</th>\n",
       "      <td>-0.327327</td>\n",
       "      <td>567</td>\n",
       "    </tr>\n",
       "    <tr>\n",
       "      <th>2</th>\n",
       "      <td>-0.071429</td>\n",
       "      <td>784</td>\n",
       "    </tr>\n",
       "    <tr>\n",
       "      <th>3</th>\n",
       "      <td>0.211289</td>\n",
       "      <td>1114</td>\n",
       "    </tr>\n",
       "    <tr>\n",
       "      <th>4</th>\n",
       "      <td>0.366900</td>\n",
       "      <td>1176</td>\n",
       "    </tr>\n",
       "  </tbody>\n",
       "</table>\n",
       "</div>"
      ],
      "text/plain": [
       "   similarityIndex  user_id\n",
       "0        -0.133631       39\n",
       "1        -0.327327      567\n",
       "2        -0.071429      784\n",
       "3         0.211289     1114\n",
       "4         0.366900     1176"
      ]
     },
     "execution_count": 16,
     "metadata": {},
     "output_type": "execute_result"
    }
   ],
   "source": [
    "pearsonDF = pd.DataFrame.from_dict(pearsonCorrelationDict, orient='index')\n",
    "pearsonDF.columns = ['similarityIndex']\n",
    "pearsonDF['user_id'] = pearsonDF.index\n",
    "pearsonDF.index = range(len(pearsonDF))\n",
    "pearsonDF.head()"
   ]
  },
  {
   "cell_type": "markdown",
   "id": "24cfc1d2",
   "metadata": {},
   "source": [
    "### Getting the top 50 users that are most similar to the input."
   ]
  },
  {
   "cell_type": "code",
   "execution_count": 17,
   "id": "da8f7431",
   "metadata": {},
   "outputs": [
    {
     "data": {
      "text/html": [
       "<div>\n",
       "<style scoped>\n",
       "    .dataframe tbody tr th:only-of-type {\n",
       "        vertical-align: middle;\n",
       "    }\n",
       "\n",
       "    .dataframe tbody tr th {\n",
       "        vertical-align: top;\n",
       "    }\n",
       "\n",
       "    .dataframe thead th {\n",
       "        text-align: right;\n",
       "    }\n",
       "</style>\n",
       "<table border=\"1\" class=\"dataframe\">\n",
       "  <thead>\n",
       "    <tr style=\"text-align: right;\">\n",
       "      <th></th>\n",
       "      <th>similarityIndex</th>\n",
       "      <th>user_id</th>\n",
       "    </tr>\n",
       "  </thead>\n",
       "  <tbody>\n",
       "    <tr>\n",
       "      <th>53</th>\n",
       "      <td>0.906327</td>\n",
       "      <td>11867</td>\n",
       "    </tr>\n",
       "    <tr>\n",
       "      <th>91</th>\n",
       "      <td>0.869657</td>\n",
       "      <td>21068</td>\n",
       "    </tr>\n",
       "    <tr>\n",
       "      <th>21</th>\n",
       "      <td>0.868599</td>\n",
       "      <td>4437</td>\n",
       "    </tr>\n",
       "    <tr>\n",
       "      <th>12</th>\n",
       "      <td>0.801246</td>\n",
       "      <td>2143</td>\n",
       "    </tr>\n",
       "    <tr>\n",
       "      <th>69</th>\n",
       "      <td>0.785714</td>\n",
       "      <td>16601</td>\n",
       "    </tr>\n",
       "  </tbody>\n",
       "</table>\n",
       "</div>"
      ],
      "text/plain": [
       "    similarityIndex  user_id\n",
       "53         0.906327    11867\n",
       "91         0.869657    21068\n",
       "21         0.868599     4437\n",
       "12         0.801246     2143\n",
       "69         0.785714    16601"
      ]
     },
     "execution_count": 17,
     "metadata": {},
     "output_type": "execute_result"
    }
   ],
   "source": [
    "topUsers=pearsonDF.sort_values(by='similarityIndex', ascending=False)[0:50]\n",
    "topUsers.head()"
   ]
  },
  {
   "cell_type": "markdown",
   "id": "ad47b913",
   "metadata": {},
   "source": [
    "### Rating of selected users to all movies\n",
    "\n",
    "This is done by taking the weighted average of the ratings of the animes using the Pearson Correlation as the weight. To do this, we first need to get the animes watched by the users in our pearsonDF from the ratings dataframe and then store their correlation in a new column called _similarityIndex\". This is achieved below by merging of these two tables."
   ]
  },
  {
   "cell_type": "code",
   "execution_count": 18,
   "id": "b39c0aa0",
   "metadata": {},
   "outputs": [
    {
     "data": {
      "text/html": [
       "<div>\n",
       "<style scoped>\n",
       "    .dataframe tbody tr th:only-of-type {\n",
       "        vertical-align: middle;\n",
       "    }\n",
       "\n",
       "    .dataframe tbody tr th {\n",
       "        vertical-align: top;\n",
       "    }\n",
       "\n",
       "    .dataframe thead th {\n",
       "        text-align: right;\n",
       "    }\n",
       "</style>\n",
       "<table border=\"1\" class=\"dataframe\">\n",
       "  <thead>\n",
       "    <tr style=\"text-align: right;\">\n",
       "      <th></th>\n",
       "      <th>similarityIndex</th>\n",
       "      <th>user_id</th>\n",
       "      <th>anime_id</th>\n",
       "      <th>rating</th>\n",
       "    </tr>\n",
       "  </thead>\n",
       "  <tbody>\n",
       "    <tr>\n",
       "      <th>0</th>\n",
       "      <td>0.906327</td>\n",
       "      <td>11867</td>\n",
       "      <td>1</td>\n",
       "      <td>8</td>\n",
       "    </tr>\n",
       "    <tr>\n",
       "      <th>1</th>\n",
       "      <td>0.906327</td>\n",
       "      <td>11867</td>\n",
       "      <td>6</td>\n",
       "      <td>-1</td>\n",
       "    </tr>\n",
       "    <tr>\n",
       "      <th>2</th>\n",
       "      <td>0.906327</td>\n",
       "      <td>11867</td>\n",
       "      <td>19</td>\n",
       "      <td>9</td>\n",
       "    </tr>\n",
       "    <tr>\n",
       "      <th>3</th>\n",
       "      <td>0.906327</td>\n",
       "      <td>11867</td>\n",
       "      <td>20</td>\n",
       "      <td>8</td>\n",
       "    </tr>\n",
       "    <tr>\n",
       "      <th>4</th>\n",
       "      <td>0.906327</td>\n",
       "      <td>11867</td>\n",
       "      <td>26</td>\n",
       "      <td>7</td>\n",
       "    </tr>\n",
       "  </tbody>\n",
       "</table>\n",
       "</div>"
      ],
      "text/plain": [
       "   similarityIndex  user_id  anime_id  rating\n",
       "0         0.906327    11867         1       8\n",
       "1         0.906327    11867         6      -1\n",
       "2         0.906327    11867        19       9\n",
       "3         0.906327    11867        20       8\n",
       "4         0.906327    11867        26       7"
      ]
     },
     "execution_count": 18,
     "metadata": {},
     "output_type": "execute_result"
    }
   ],
   "source": [
    "topUsersRating=topUsers.merge(ratings_df, left_on='user_id', right_on='user_id', how='inner')\n",
    "topUsersRating.head()"
   ]
  },
  {
   "cell_type": "markdown",
   "id": "a0965fef",
   "metadata": {},
   "source": [
    "Multiplying the animes rating by its weight (the similarity index), then sum up the new ratings and divide it by the sum of the weights."
   ]
  },
  {
   "cell_type": "code",
   "execution_count": 19,
   "id": "c17dbec4",
   "metadata": {},
   "outputs": [
    {
     "data": {
      "text/html": [
       "<div>\n",
       "<style scoped>\n",
       "    .dataframe tbody tr th:only-of-type {\n",
       "        vertical-align: middle;\n",
       "    }\n",
       "\n",
       "    .dataframe tbody tr th {\n",
       "        vertical-align: top;\n",
       "    }\n",
       "\n",
       "    .dataframe thead th {\n",
       "        text-align: right;\n",
       "    }\n",
       "</style>\n",
       "<table border=\"1\" class=\"dataframe\">\n",
       "  <thead>\n",
       "    <tr style=\"text-align: right;\">\n",
       "      <th></th>\n",
       "      <th>similarityIndex</th>\n",
       "      <th>user_id</th>\n",
       "      <th>anime_id</th>\n",
       "      <th>rating</th>\n",
       "      <th>weightedRating</th>\n",
       "    </tr>\n",
       "  </thead>\n",
       "  <tbody>\n",
       "    <tr>\n",
       "      <th>0</th>\n",
       "      <td>0.906327</td>\n",
       "      <td>11867</td>\n",
       "      <td>1</td>\n",
       "      <td>8</td>\n",
       "      <td>7.250616</td>\n",
       "    </tr>\n",
       "    <tr>\n",
       "      <th>1</th>\n",
       "      <td>0.906327</td>\n",
       "      <td>11867</td>\n",
       "      <td>6</td>\n",
       "      <td>-1</td>\n",
       "      <td>-0.906327</td>\n",
       "    </tr>\n",
       "    <tr>\n",
       "      <th>2</th>\n",
       "      <td>0.906327</td>\n",
       "      <td>11867</td>\n",
       "      <td>19</td>\n",
       "      <td>9</td>\n",
       "      <td>8.156943</td>\n",
       "    </tr>\n",
       "    <tr>\n",
       "      <th>3</th>\n",
       "      <td>0.906327</td>\n",
       "      <td>11867</td>\n",
       "      <td>20</td>\n",
       "      <td>8</td>\n",
       "      <td>7.250616</td>\n",
       "    </tr>\n",
       "    <tr>\n",
       "      <th>4</th>\n",
       "      <td>0.906327</td>\n",
       "      <td>11867</td>\n",
       "      <td>26</td>\n",
       "      <td>7</td>\n",
       "      <td>6.344289</td>\n",
       "    </tr>\n",
       "  </tbody>\n",
       "</table>\n",
       "</div>"
      ],
      "text/plain": [
       "   similarityIndex  user_id  anime_id  rating  weightedRating\n",
       "0         0.906327    11867         1       8        7.250616\n",
       "1         0.906327    11867         6      -1       -0.906327\n",
       "2         0.906327    11867        19       9        8.156943\n",
       "3         0.906327    11867        20       8        7.250616\n",
       "4         0.906327    11867        26       7        6.344289"
      ]
     },
     "execution_count": 19,
     "metadata": {},
     "output_type": "execute_result"
    }
   ],
   "source": [
    "topUsersRating['weightedRating'] = topUsersRating['similarityIndex']*topUsersRating['rating']\n",
    "topUsersRating.head()"
   ]
  },
  {
   "cell_type": "code",
   "execution_count": 20,
   "id": "ab2cbb01",
   "metadata": {},
   "outputs": [
    {
     "data": {
      "text/html": [
       "<div>\n",
       "<style scoped>\n",
       "    .dataframe tbody tr th:only-of-type {\n",
       "        vertical-align: middle;\n",
       "    }\n",
       "\n",
       "    .dataframe tbody tr th {\n",
       "        vertical-align: top;\n",
       "    }\n",
       "\n",
       "    .dataframe thead th {\n",
       "        text-align: right;\n",
       "    }\n",
       "</style>\n",
       "<table border=\"1\" class=\"dataframe\">\n",
       "  <thead>\n",
       "    <tr style=\"text-align: right;\">\n",
       "      <th></th>\n",
       "      <th>sum_similarityIndex</th>\n",
       "      <th>sum_weightedRating</th>\n",
       "    </tr>\n",
       "    <tr>\n",
       "      <th>anime_id</th>\n",
       "      <th></th>\n",
       "      <th></th>\n",
       "    </tr>\n",
       "  </thead>\n",
       "  <tbody>\n",
       "    <tr>\n",
       "      <th>1</th>\n",
       "      <td>12.080512</td>\n",
       "      <td>94.918125</td>\n",
       "    </tr>\n",
       "    <tr>\n",
       "      <th>5</th>\n",
       "      <td>5.171021</td>\n",
       "      <td>39.176237</td>\n",
       "    </tr>\n",
       "    <tr>\n",
       "      <th>6</th>\n",
       "      <td>8.700718</td>\n",
       "      <td>57.766454</td>\n",
       "    </tr>\n",
       "    <tr>\n",
       "      <th>7</th>\n",
       "      <td>1.412665</td>\n",
       "      <td>9.811406</td>\n",
       "    </tr>\n",
       "    <tr>\n",
       "      <th>8</th>\n",
       "      <td>0.037547</td>\n",
       "      <td>0.300376</td>\n",
       "    </tr>\n",
       "  </tbody>\n",
       "</table>\n",
       "</div>"
      ],
      "text/plain": [
       "          sum_similarityIndex  sum_weightedRating\n",
       "anime_id                                         \n",
       "1                   12.080512           94.918125\n",
       "5                    5.171021           39.176237\n",
       "6                    8.700718           57.766454\n",
       "7                    1.412665            9.811406\n",
       "8                    0.037547            0.300376"
      ]
     },
     "execution_count": 20,
     "metadata": {},
     "output_type": "execute_result"
    }
   ],
   "source": [
    "#Applying a sum to the topUsers after grouping it up by user_id\n",
    "tempTopUsersRating = topUsersRating.groupby('anime_id').sum()[['similarityIndex','weightedRating']]\n",
    "tempTopUsersRating.columns = ['sum_similarityIndex','sum_weightedRating']\n",
    "tempTopUsersRating.head()"
   ]
  },
  {
   "cell_type": "code",
   "execution_count": 21,
   "id": "9c5d325d",
   "metadata": {},
   "outputs": [
    {
     "data": {
      "text/html": [
       "<div>\n",
       "<style scoped>\n",
       "    .dataframe tbody tr th:only-of-type {\n",
       "        vertical-align: middle;\n",
       "    }\n",
       "\n",
       "    .dataframe tbody tr th {\n",
       "        vertical-align: top;\n",
       "    }\n",
       "\n",
       "    .dataframe thead th {\n",
       "        text-align: right;\n",
       "    }\n",
       "</style>\n",
       "<table border=\"1\" class=\"dataframe\">\n",
       "  <thead>\n",
       "    <tr style=\"text-align: right;\">\n",
       "      <th></th>\n",
       "      <th>weighted average recommendation score</th>\n",
       "      <th>anime_id</th>\n",
       "    </tr>\n",
       "    <tr>\n",
       "      <th>anime_id</th>\n",
       "      <th></th>\n",
       "      <th></th>\n",
       "    </tr>\n",
       "  </thead>\n",
       "  <tbody>\n",
       "    <tr>\n",
       "      <th>1</th>\n",
       "      <td>7.857127</td>\n",
       "      <td>1</td>\n",
       "    </tr>\n",
       "    <tr>\n",
       "      <th>5</th>\n",
       "      <td>7.576113</td>\n",
       "      <td>5</td>\n",
       "    </tr>\n",
       "    <tr>\n",
       "      <th>6</th>\n",
       "      <td>6.639275</td>\n",
       "      <td>6</td>\n",
       "    </tr>\n",
       "    <tr>\n",
       "      <th>7</th>\n",
       "      <td>6.945319</td>\n",
       "      <td>7</td>\n",
       "    </tr>\n",
       "    <tr>\n",
       "      <th>8</th>\n",
       "      <td>8.000000</td>\n",
       "      <td>8</td>\n",
       "    </tr>\n",
       "  </tbody>\n",
       "</table>\n",
       "</div>"
      ],
      "text/plain": [
       "          weighted average recommendation score  anime_id\n",
       "anime_id                                                 \n",
       "1                                      7.857127         1\n",
       "5                                      7.576113         5\n",
       "6                                      6.639275         6\n",
       "7                                      6.945319         7\n",
       "8                                      8.000000         8"
      ]
     },
     "execution_count": 21,
     "metadata": {},
     "output_type": "execute_result"
    }
   ],
   "source": [
    "#Creating an empty dataframe\n",
    "recommendation_df = pd.DataFrame()\n",
    "#Now we take the weighted average\n",
    "recommendation_df['weighted average recommendation score'] = tempTopUsersRating['sum_weightedRating']/tempTopUsersRating['sum_similarityIndex']\n",
    "recommendation_df['anime_id'] = tempTopUsersRating.index\n",
    "recommendation_df.head()"
   ]
  },
  {
   "cell_type": "markdown",
   "id": "e4f0b168",
   "metadata": {},
   "source": [
    "### Sorting it and seeing the top 10 animes that the algorithm recommended"
   ]
  },
  {
   "cell_type": "code",
   "execution_count": 22,
   "id": "c166f39b",
   "metadata": {},
   "outputs": [
    {
     "data": {
      "text/html": [
       "<div>\n",
       "<style scoped>\n",
       "    .dataframe tbody tr th:only-of-type {\n",
       "        vertical-align: middle;\n",
       "    }\n",
       "\n",
       "    .dataframe tbody tr th {\n",
       "        vertical-align: top;\n",
       "    }\n",
       "\n",
       "    .dataframe thead th {\n",
       "        text-align: right;\n",
       "    }\n",
       "</style>\n",
       "<table border=\"1\" class=\"dataframe\">\n",
       "  <thead>\n",
       "    <tr style=\"text-align: right;\">\n",
       "      <th></th>\n",
       "      <th>weighted average recommendation score</th>\n",
       "      <th>anime_id</th>\n",
       "    </tr>\n",
       "    <tr>\n",
       "      <th>anime_id</th>\n",
       "      <th></th>\n",
       "      <th></th>\n",
       "    </tr>\n",
       "  </thead>\n",
       "  <tbody>\n",
       "    <tr>\n",
       "      <th>31592</th>\n",
       "      <td>10.000000</td>\n",
       "      <td>31592</td>\n",
       "    </tr>\n",
       "    <tr>\n",
       "      <th>2174</th>\n",
       "      <td>10.000000</td>\n",
       "      <td>2174</td>\n",
       "    </tr>\n",
       "    <tr>\n",
       "      <th>2009</th>\n",
       "      <td>10.000000</td>\n",
       "      <td>2009</td>\n",
       "    </tr>\n",
       "    <tr>\n",
       "      <th>4312</th>\n",
       "      <td>10.000000</td>\n",
       "      <td>4312</td>\n",
       "    </tr>\n",
       "    <tr>\n",
       "      <th>5291</th>\n",
       "      <td>10.000000</td>\n",
       "      <td>5291</td>\n",
       "    </tr>\n",
       "    <tr>\n",
       "      <th>3027</th>\n",
       "      <td>10.000000</td>\n",
       "      <td>3027</td>\n",
       "    </tr>\n",
       "    <tr>\n",
       "      <th>8278</th>\n",
       "      <td>10.000000</td>\n",
       "      <td>8278</td>\n",
       "    </tr>\n",
       "    <tr>\n",
       "      <th>2252</th>\n",
       "      <td>10.000000</td>\n",
       "      <td>2252</td>\n",
       "    </tr>\n",
       "    <tr>\n",
       "      <th>1773</th>\n",
       "      <td>10.000000</td>\n",
       "      <td>1773</td>\n",
       "    </tr>\n",
       "    <tr>\n",
       "      <th>12001</th>\n",
       "      <td>9.650913</td>\n",
       "      <td>12001</td>\n",
       "    </tr>\n",
       "  </tbody>\n",
       "</table>\n",
       "</div>"
      ],
      "text/plain": [
       "          weighted average recommendation score  anime_id\n",
       "anime_id                                                 \n",
       "31592                                 10.000000     31592\n",
       "2174                                  10.000000      2174\n",
       "2009                                  10.000000      2009\n",
       "4312                                  10.000000      4312\n",
       "5291                                  10.000000      5291\n",
       "3027                                  10.000000      3027\n",
       "8278                                  10.000000      8278\n",
       "2252                                  10.000000      2252\n",
       "1773                                  10.000000      1773\n",
       "12001                                  9.650913     12001"
      ]
     },
     "execution_count": 22,
     "metadata": {},
     "output_type": "execute_result"
    }
   ],
   "source": [
    "recommendation_df = recommendation_df.sort_values(by='weighted average recommendation score', ascending=False)\n",
    "recommendation_df.head(10)"
   ]
  },
  {
   "cell_type": "code",
   "execution_count": 23,
   "id": "3898f5f2",
   "metadata": {},
   "outputs": [
    {
     "data": {
      "text/html": [
       "<div>\n",
       "<style scoped>\n",
       "    .dataframe tbody tr th:only-of-type {\n",
       "        vertical-align: middle;\n",
       "    }\n",
       "\n",
       "    .dataframe tbody tr th {\n",
       "        vertical-align: top;\n",
       "    }\n",
       "\n",
       "    .dataframe thead th {\n",
       "        text-align: right;\n",
       "    }\n",
       "</style>\n",
       "<table border=\"1\" class=\"dataframe\">\n",
       "  <thead>\n",
       "    <tr style=\"text-align: right;\">\n",
       "      <th></th>\n",
       "      <th>anime_id</th>\n",
       "      <th>name</th>\n",
       "    </tr>\n",
       "  </thead>\n",
       "  <tbody>\n",
       "    <tr>\n",
       "      <th>666</th>\n",
       "      <td>31592</td>\n",
       "      <td>Pokemon XY&amp;amp;Z</td>\n",
       "    </tr>\n",
       "    <tr>\n",
       "      <th>1203</th>\n",
       "      <td>2174</td>\n",
       "      <td>Hokuto no Ken: Raoh Gaiden Gekitou-hen</td>\n",
       "    </tr>\n",
       "    <tr>\n",
       "      <th>1417</th>\n",
       "      <td>5291</td>\n",
       "      <td>Hokuto no Ken Zero: Kenshirou Den</td>\n",
       "    </tr>\n",
       "    <tr>\n",
       "      <th>1448</th>\n",
       "      <td>1773</td>\n",
       "      <td>Hokuto no Ken: Raoh Gaiden Junai-hen</td>\n",
       "    </tr>\n",
       "    <tr>\n",
       "      <th>1732</th>\n",
       "      <td>2009</td>\n",
       "      <td>Yawara! Special: Zutto Kimi no Koto ga... .</td>\n",
       "    </tr>\n",
       "    <tr>\n",
       "      <th>1752</th>\n",
       "      <td>4312</td>\n",
       "      <td>Hokuto no Ken: Toki-den</td>\n",
       "    </tr>\n",
       "    <tr>\n",
       "      <th>2245</th>\n",
       "      <td>12001</td>\n",
       "      <td>One Piece 3D: Gekisou! Trap Coaster</td>\n",
       "    </tr>\n",
       "    <tr>\n",
       "      <th>2709</th>\n",
       "      <td>3027</td>\n",
       "      <td>Hokuto no Ken: Yuria-den</td>\n",
       "    </tr>\n",
       "    <tr>\n",
       "      <th>5095</th>\n",
       "      <td>2252</td>\n",
       "      <td>Devilman</td>\n",
       "    </tr>\n",
       "    <tr>\n",
       "      <th>5448</th>\n",
       "      <td>8278</td>\n",
       "      <td>Biohazard 4: Incubate</td>\n",
       "    </tr>\n",
       "  </tbody>\n",
       "</table>\n",
       "</div>"
      ],
      "text/plain": [
       "      anime_id                                         name\n",
       "666      31592                             Pokemon XY&amp;Z\n",
       "1203      2174       Hokuto no Ken: Raoh Gaiden Gekitou-hen\n",
       "1417      5291            Hokuto no Ken Zero: Kenshirou Den\n",
       "1448      1773         Hokuto no Ken: Raoh Gaiden Junai-hen\n",
       "1732      2009  Yawara! Special: Zutto Kimi no Koto ga... .\n",
       "1752      4312                      Hokuto no Ken: Toki-den\n",
       "2245     12001          One Piece 3D: Gekisou! Trap Coaster\n",
       "2709      3027                     Hokuto no Ken: Yuria-den\n",
       "5095      2252                                     Devilman\n",
       "5448      8278                        Biohazard 4: Incubate"
      ]
     },
     "execution_count": 23,
     "metadata": {},
     "output_type": "execute_result"
    }
   ],
   "source": [
    "anime_df.loc[anime_df['anime_id'].isin(recommendation_df.head(10)['anime_id'].tolist())]"
   ]
  },
  {
   "cell_type": "markdown",
   "id": "0833247b",
   "metadata": {},
   "source": [
    "### Advantages and Disadvantages of Collaborative Filtering\n",
    "\n",
    "### Advantages\n",
    "\n",
    "Takes other user's ratings into consideration\n",
    "\n",
    "Doesn't need to study or extract information from the recommended item\n",
    "\n",
    "Adapts to the user's interests which might change over time\n",
    "\n",
    "### Disadvantages\n",
    "\n",
    "Approximation function can be slow\n",
    "\n",
    "There might be a low amount of users to approximate\n",
    "\n",
    "Privacy issues when trying to learn the user's preferences"
   ]
  }
 ],
 "metadata": {
  "kernelspec": {
   "display_name": "Python 3 (ipykernel)",
   "language": "python",
   "name": "python3"
  },
  "language_info": {
   "codemirror_mode": {
    "name": "ipython",
    "version": 3
   },
   "file_extension": ".py",
   "mimetype": "text/x-python",
   "name": "python",
   "nbconvert_exporter": "python",
   "pygments_lexer": "ipython3",
   "version": "3.9.7"
  }
 },
 "nbformat": 4,
 "nbformat_minor": 5
}
